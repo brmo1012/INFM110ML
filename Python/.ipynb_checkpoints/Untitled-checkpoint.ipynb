{
 "cells": [
  {
   "cell_type": "code",
   "execution_count": 45,
   "metadata": {},
   "outputs": [],
   "source": [
    "import math\n",
    "import matplotlib as plot"
   ]
  },
  {
   "cell_type": "markdown",
   "metadata": {},
   "source": [
    "# Statistik\n",
    "\n",
    "## Deskriptive Statistik\n",
    "\n",
    "Im Folgenden gehen wir davon aus, dass wir eine Stichprobe x1 ... xn vom Umfang n mit diskreten Werten vorliegen haben, z.B. das Alter aller in der Vorlesung Data Mining anwesenden Studierenden im WS 14/15 in Jahren: 23, 22, 21, 23, 22, 22, 27, 26, 26, 23, 27, 26, 25, 25, 25,\n",
    "24, 28, 30, 20, 25, 23, 22, 26, 26, 25, 24, 25, 26, 25, 22, 25, 28. Aus diesen Werten l¨asst sich ein\n",
    "Histogramm H(x) erzeugen und durch h(x) = H(x)/n normieren."
   ]
  },
  {
   "cell_type": "code",
   "execution_count": 44,
   "metadata": {},
   "outputs": [
    {
     "data": {
      "text/plain": [
       "0.385"
      ]
     },
     "execution_count": 44,
     "metadata": {},
     "output_type": "execute_result"
    }
   ],
   "source": [
    "Stichprobe = "
   ]
  },
  {
   "cell_type": "code",
   "execution_count": 47,
   "metadata": {},
   "outputs": [],
   "source": [
    "def mittelwert(array):\n",
    "    sum = 0\n",
    "    for val in array:\n",
    "        sum += val\n",
    "    return sum / len(array)"
   ]
  },
  {
   "cell_type": "code",
   "execution_count": 46,
   "metadata": {},
   "outputs": [],
   "source": [
    "def mittelwertProp(array, prop):\n",
    "    sum = 0\n",
    "    for element in array:\n",
    "        sum += element[prop]\n",
    "    return sum / len(array)"
   ]
  },
  {
   "cell_type": "code",
   "execution_count": 4,
   "metadata": {},
   "outputs": [],
   "source": [
    "def empVarianz(array):\n",
    "    sum = 0\n",
    "    m = mittelwert(array)\n",
    "    for val in array:\n",
    "        sum += (val - m) ** 2\n",
    "    return sum / (len(array) - 1)"
   ]
  },
  {
   "cell_type": "code",
   "execution_count": 10,
   "metadata": {},
   "outputs": [],
   "source": [
    "import math\n",
    "\n",
    "def empStdAbweichung(array):\n",
    "    return math.sqrt(empVarianz(array))"
   ]
  },
  {
   "cell_type": "code",
   "execution_count": 39,
   "metadata": {},
   "outputs": [],
   "source": [
    "def korrelationskoeffizient(array, prop1, prop2):\n",
    "    zaehler = 0\n",
    "    xs = []\n",
    "    for element in array:\n",
    "        xs.append(element[prop1])\n",
    "    mx = mittelwert(xs)\n",
    "    ys = []\n",
    "    for element in array:\n",
    "        ys.append(element[prop2])\n",
    "    my = mittelwert(ys)\n",
    "    for element in array:\n",
    "        zaehler += (element[prop1] - mx) * (element[prop2] - my)\n",
    "    nenner1 = 0\n",
    "    for element in array:\n",
    "        nenner1 += (element[prop1] - mx) ** 2\n",
    "    nenner2 = 0\n",
    "    for element in array:\n",
    "        nenner2 += (element[prop2] - my) ** 2\n",
    "    nenner = math.sqrt((nenner1) * (nenner2))\n",
    "    return zaehler / nenner"
   ]
  },
  {
   "cell_type": "code",
   "execution_count": 40,
   "metadata": {},
   "outputs": [
    {
     "data": {
      "text/plain": [
       "3.0"
      ]
     },
     "execution_count": 40,
     "metadata": {},
     "output_type": "execute_result"
    }
   ],
   "source": [
    "array = [2,3,5,3,4,2,1,3,4,3]\n",
    "\n",
    "mittelwert(array)\n"
   ]
  },
  {
   "cell_type": "code",
   "execution_count": 41,
   "metadata": {},
   "outputs": [
    {
     "data": {
      "text/plain": [
       "1.3333333333333333"
      ]
     },
     "execution_count": 41,
     "metadata": {},
     "output_type": "execute_result"
    }
   ],
   "source": [
    "empVarianz(array)"
   ]
  },
  {
   "cell_type": "code",
   "execution_count": 42,
   "metadata": {},
   "outputs": [
    {
     "data": {
      "text/plain": [
       "1.1547005383792515"
      ]
     },
     "execution_count": 42,
     "metadata": {},
     "output_type": "execute_result"
    }
   ],
   "source": [
    "empStdAbweichung(array)"
   ]
  },
  {
   "cell_type": "code",
   "execution_count": 43,
   "metadata": {},
   "outputs": [
    {
     "data": {
      "text/plain": [
       "-0.07273414067972254"
      ]
     },
     "execution_count": 43,
     "metadata": {},
     "output_type": "execute_result"
    }
   ],
   "source": [
    "korrelationskoeffizient([\n",
    "    {'a': 23, 'g': 1.93},\n",
    "    {'a': 22, 'g': 1.80},\n",
    "    {'a': 21, 'g': 1.85},\n",
    "    {'a': 23, 'g': 1.85},\n",
    "    {'a': 22, 'g': 1.85},\n",
    "    {'a': 22, 'g': 1.75},\n",
    "    {'a': 27, 'g': 1.82},\n",
    "    {'a': 26, 'g': 1.91},\n",
    "    {'a': 26, 'g': 1.85},\n",
    "    {'a': 23, 'g': 1.85},\n",
    "    {'a': 27, 'g': 1.94},\n",
    "    {'a': 26, 'g': 1.75},\n",
    "    {'a': 25, 'g': 1.80},\n",
    "    {'a': 25, 'g': 1.85},\n",
    "    {'a': 25, 'g': 1.75},\n",
    "    {'a': 24, 'g': 1.75},\n",
    "    {'a': 28, 'g': 1.83},\n",
    "    {'a': 30, 'g': 1.75},\n",
    "    {'a': 20, 'g': 1.85},\n",
    "    {'a': 25, 'g': 1.80},\n",
    "    {'a': 23, 'g': 1.75},\n",
    "], 'a', 'g')"
   ]
  },
  {
   "cell_type": "markdown",
   "metadata": {},
   "source": [
    "## Wahrscheinlichkeitsrechnung"
   ]
  },
  {
   "cell_type": "markdown",
   "metadata": {},
   "source": [
    "In der Wahrscheinlichkeitsrechnung gehen wir von einem Zufallsexperiment aus, also einem Vorgang, der  \n",
    "- beliebig oft wiederholt werden kann\n",
    "- dessen Ergebnis nicht mit Sicherheit voraus gesagt werden kann.\n",
    "\n",
    "Das klassische (aber ziemlich langweilige) Standardbeispiel fur ein Zufallsexperiment ist das Werfen eines (idealen) Würfels. Im Zusammenhang mit Zufallsexperimenten bilden Elementarereignisse sozusagen die kleinste Einheit. Im Beispiel des Wurfels können sechs Elementarereignisse auftreten, n¨amlich eine 1 zu wurfeln, eine 2, 3, 4, 5 oder 6. Gemeinsam bilden die ¨\n",
    "Elementarereignisse die Grundmenge Ω, in unserem Wurfelbeispiel ist also Ω = ¨ {1, 2, 3, 4, 5, 6}.\n",
    "Unter einem Ereignis versteht man dann jede Teilmenge A ⊂ Ω. So z.B. w¨are A = {1, 3, 5} das\n",
    "Ereignis, eine ungerade Zahl zu wurfeln. Unter der ¨ Ereignismenge A versteht man dann die\n",
    "Menge aller m¨oglichen Ereignisse, also die Potenzmenge P(Ω) von Ω.\n",
    "Die Grundmenge Ω muss nicht aus diskreten Werten bestehen. Werden Messungen (z.B. die\n",
    "Temperatur von Wasser) als Zufallsexperimente aufgefasst, kann Ω beispielsweise das Intervall\n",
    "aller m¨oglichen Messwerte sein. Fur Wassertemperaturen in Grad Celsius also [0 ¨ , 100]. Jede\n",
    "Teilmenge w¨are dann ein Ereignis, so z.B. A = [0, 10).\n",
    "                                            "
   ]
  },
  {
   "cell_type": "code",
   "execution_count": null,
   "metadata": {},
   "outputs": [],
   "source": []
  },
  {
   "cell_type": "code",
   "execution_count": null,
   "metadata": {},
   "outputs": [],
   "source": []
  },
  {
   "cell_type": "code",
   "execution_count": null,
   "metadata": {},
   "outputs": [],
   "source": []
  },
  {
   "cell_type": "code",
   "execution_count": null,
   "metadata": {},
   "outputs": [],
   "source": []
  },
  {
   "cell_type": "code",
   "execution_count": null,
   "metadata": {},
   "outputs": [],
   "source": []
  },
  {
   "cell_type": "code",
   "execution_count": null,
   "metadata": {},
   "outputs": [],
   "source": []
  },
  {
   "cell_type": "code",
   "execution_count": null,
   "metadata": {},
   "outputs": [],
   "source": []
  },
  {
   "cell_type": "code",
   "execution_count": null,
   "metadata": {},
   "outputs": [],
   "source": []
  },
  {
   "cell_type": "code",
   "execution_count": null,
   "metadata": {},
   "outputs": [],
   "source": []
  },
  {
   "cell_type": "code",
   "execution_count": null,
   "metadata": {},
   "outputs": [],
   "source": []
  },
  {
   "cell_type": "code",
   "execution_count": null,
   "metadata": {},
   "outputs": [],
   "source": []
  },
  {
   "cell_type": "code",
   "execution_count": null,
   "metadata": {},
   "outputs": [],
   "source": []
  },
  {
   "cell_type": "code",
   "execution_count": null,
   "metadata": {},
   "outputs": [],
   "source": []
  },
  {
   "cell_type": "code",
   "execution_count": null,
   "metadata": {},
   "outputs": [],
   "source": []
  },
  {
   "cell_type": "code",
   "execution_count": null,
   "metadata": {},
   "outputs": [],
   "source": []
  },
  {
   "cell_type": "code",
   "execution_count": null,
   "metadata": {},
   "outputs": [],
   "source": []
  },
  {
   "cell_type": "code",
   "execution_count": null,
   "metadata": {},
   "outputs": [],
   "source": []
  },
  {
   "cell_type": "code",
   "execution_count": null,
   "metadata": {},
   "outputs": [],
   "source": []
  },
  {
   "cell_type": "code",
   "execution_count": null,
   "metadata": {},
   "outputs": [],
   "source": []
  },
  {
   "cell_type": "code",
   "execution_count": null,
   "metadata": {},
   "outputs": [],
   "source": []
  },
  {
   "cell_type": "code",
   "execution_count": null,
   "metadata": {},
   "outputs": [],
   "source": []
  }
 ],
 "metadata": {
  "kernelspec": {
   "display_name": "Python 3",
   "language": "python",
   "name": "python3"
  },
  "language_info": {
   "codemirror_mode": {
    "name": "ipython",
    "version": 3
   },
   "file_extension": ".py",
   "mimetype": "text/x-python",
   "name": "python",
   "nbconvert_exporter": "python",
   "pygments_lexer": "ipython3",
   "version": "3.7.1"
  }
 },
 "nbformat": 4,
 "nbformat_minor": 2
}
